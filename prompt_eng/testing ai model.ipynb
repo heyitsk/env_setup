{
 "cells": [
  {
   "cell_type": "markdown",
   "id": "9d0d145d",
   "metadata": {},
   "source": [
    "## Prompt Engineering"
   ]
  },
  {
   "cell_type": "markdown",
   "id": "2fa95dfe",
   "metadata": {},
   "source": [
    "> In this notebook i downloaded an ai model \"EleutherAI/gpt-neo-125M\" into my system locally and proividing prompts to it and testing the output. "
   ]
  },
  {
   "cell_type": "markdown",
   "id": "4990c158",
   "metadata": {},
   "source": [
    "> the *issues* i faced while learning this   \n",
    "      1. I tried using openai but later found out it is paid =. SO i switched to hugging face which offers free use of ai model apis   \n",
    "      2. I tried loading the model using api but due to slow interent connection found it difficult. So i manually downloaded it onto my system and used it from there "
   ]
  },
  {
   "cell_type": "code",
   "execution_count": 1,
   "id": "4b82aa0f",
   "metadata": {},
   "outputs": [
    {
     "name": "stdout",
     "output_type": "stream",
     "text": [
      "Requirement already satisfied: transformers in /home/kushagra/anaconda3/envs/dswh_env/lib/python3.10/site-packages (4.49.0)\n",
      "Requirement already satisfied: huggingface_hub in /home/kushagra/anaconda3/envs/dswh_env/lib/python3.10/site-packages (0.29.1)\n",
      "Requirement already satisfied: torch in /home/kushagra/anaconda3/envs/dswh_env/lib/python3.10/site-packages (2.6.0)\n",
      "Requirement already satisfied: filelock in /home/kushagra/anaconda3/envs/dswh_env/lib/python3.10/site-packages (from transformers) (3.17.0)\n",
      "Requirement already satisfied: numpy>=1.17 in /home/kushagra/anaconda3/envs/dswh_env/lib/python3.10/site-packages (from transformers) (2.2.3)\n",
      "Requirement already satisfied: packaging>=20.0 in /home/kushagra/anaconda3/envs/dswh_env/lib/python3.10/site-packages (from transformers) (24.2)\n",
      "Requirement already satisfied: pyyaml>=5.1 in /home/kushagra/anaconda3/envs/dswh_env/lib/python3.10/site-packages (from transformers) (6.0.2)\n",
      "Requirement already satisfied: regex!=2019.12.17 in /home/kushagra/anaconda3/envs/dswh_env/lib/python3.10/site-packages (from transformers) (2024.11.6)\n",
      "Requirement already satisfied: requests in /home/kushagra/anaconda3/envs/dswh_env/lib/python3.10/site-packages (from transformers) (2.32.3)\n",
      "Requirement already satisfied: tokenizers<0.22,>=0.21 in /home/kushagra/anaconda3/envs/dswh_env/lib/python3.10/site-packages (from transformers) (0.21.0)\n",
      "Requirement already satisfied: safetensors>=0.4.1 in /home/kushagra/anaconda3/envs/dswh_env/lib/python3.10/site-packages (from transformers) (0.5.2)\n",
      "Requirement already satisfied: tqdm>=4.27 in /home/kushagra/anaconda3/envs/dswh_env/lib/python3.10/site-packages (from transformers) (4.67.1)\n",
      "Requirement already satisfied: fsspec>=2023.5.0 in /home/kushagra/anaconda3/envs/dswh_env/lib/python3.10/site-packages (from huggingface_hub) (2025.2.0)\n",
      "Requirement already satisfied: typing-extensions>=3.7.4.3 in /home/kushagra/anaconda3/envs/dswh_env/lib/python3.10/site-packages (from huggingface_hub) (4.12.2)\n",
      "Requirement already satisfied: networkx in /home/kushagra/anaconda3/envs/dswh_env/lib/python3.10/site-packages (from torch) (3.4.2)\n",
      "Requirement already satisfied: jinja2 in /home/kushagra/anaconda3/envs/dswh_env/lib/python3.10/site-packages (from torch) (3.1.5)\n",
      "Requirement already satisfied: nvidia-cuda-nvrtc-cu12==12.4.127 in /home/kushagra/anaconda3/envs/dswh_env/lib/python3.10/site-packages (from torch) (12.4.127)\n",
      "Requirement already satisfied: nvidia-cuda-runtime-cu12==12.4.127 in /home/kushagra/anaconda3/envs/dswh_env/lib/python3.10/site-packages (from torch) (12.4.127)\n",
      "Requirement already satisfied: nvidia-cuda-cupti-cu12==12.4.127 in /home/kushagra/anaconda3/envs/dswh_env/lib/python3.10/site-packages (from torch) (12.4.127)\n",
      "Requirement already satisfied: nvidia-cudnn-cu12==9.1.0.70 in /home/kushagra/anaconda3/envs/dswh_env/lib/python3.10/site-packages (from torch) (9.1.0.70)\n",
      "Requirement already satisfied: nvidia-cublas-cu12==12.4.5.8 in /home/kushagra/anaconda3/envs/dswh_env/lib/python3.10/site-packages (from torch) (12.4.5.8)\n",
      "Requirement already satisfied: nvidia-cufft-cu12==11.2.1.3 in /home/kushagra/anaconda3/envs/dswh_env/lib/python3.10/site-packages (from torch) (11.2.1.3)\n",
      "Requirement already satisfied: nvidia-curand-cu12==10.3.5.147 in /home/kushagra/anaconda3/envs/dswh_env/lib/python3.10/site-packages (from torch) (10.3.5.147)\n",
      "Requirement already satisfied: nvidia-cusolver-cu12==11.6.1.9 in /home/kushagra/anaconda3/envs/dswh_env/lib/python3.10/site-packages (from torch) (11.6.1.9)\n",
      "Requirement already satisfied: nvidia-cusparse-cu12==12.3.1.170 in /home/kushagra/anaconda3/envs/dswh_env/lib/python3.10/site-packages (from torch) (12.3.1.170)\n",
      "Requirement already satisfied: nvidia-cusparselt-cu12==0.6.2 in /home/kushagra/anaconda3/envs/dswh_env/lib/python3.10/site-packages (from torch) (0.6.2)\n",
      "Requirement already satisfied: nvidia-nccl-cu12==2.21.5 in /home/kushagra/anaconda3/envs/dswh_env/lib/python3.10/site-packages (from torch) (2.21.5)\n",
      "Requirement already satisfied: nvidia-nvtx-cu12==12.4.127 in /home/kushagra/anaconda3/envs/dswh_env/lib/python3.10/site-packages (from torch) (12.4.127)\n",
      "Requirement already satisfied: nvidia-nvjitlink-cu12==12.4.127 in /home/kushagra/anaconda3/envs/dswh_env/lib/python3.10/site-packages (from torch) (12.4.127)\n",
      "Requirement already satisfied: triton==3.2.0 in /home/kushagra/anaconda3/envs/dswh_env/lib/python3.10/site-packages (from torch) (3.2.0)\n",
      "Requirement already satisfied: sympy==1.13.1 in /home/kushagra/anaconda3/envs/dswh_env/lib/python3.10/site-packages (from torch) (1.13.1)\n",
      "Requirement already satisfied: mpmath<1.4,>=1.1.0 in /home/kushagra/anaconda3/envs/dswh_env/lib/python3.10/site-packages (from sympy==1.13.1->torch) (1.3.0)\n",
      "Requirement already satisfied: MarkupSafe>=2.0 in /home/kushagra/anaconda3/envs/dswh_env/lib/python3.10/site-packages (from jinja2->torch) (3.0.2)\n",
      "Requirement already satisfied: charset-normalizer<4,>=2 in /home/kushagra/anaconda3/envs/dswh_env/lib/python3.10/site-packages (from requests->transformers) (3.4.1)\n",
      "Requirement already satisfied: idna<4,>=2.5 in /home/kushagra/anaconda3/envs/dswh_env/lib/python3.10/site-packages (from requests->transformers) (3.10)\n",
      "Requirement already satisfied: urllib3<3,>=1.21.1 in /home/kushagra/anaconda3/envs/dswh_env/lib/python3.10/site-packages (from requests->transformers) (2.3.0)\n",
      "Requirement already satisfied: certifi>=2017.4.17 in /home/kushagra/anaconda3/envs/dswh_env/lib/python3.10/site-packages (from requests->transformers) (2025.1.31)\n"
     ]
    }
   ],
   "source": [
    "!pip install --upgrade transformers huggingface_hub torch\n",
    "\n"
   ]
  },
  {
   "cell_type": "code",
   "execution_count": 1,
   "id": "193c36ad",
   "metadata": {},
   "outputs": [
    {
     "name": "stdout",
     "output_type": "stream",
     "text": [
      "Successfully logged out from all access tokens.\r\n"
     ]
    }
   ],
   "source": [
    "!huggingface-cli logout\n",
    "\n"
   ]
  },
  {
   "cell_type": "code",
   "execution_count": 1,
   "id": "be65e55a",
   "metadata": {},
   "outputs": [
    {
     "name": "stderr",
     "output_type": "stream",
     "text": [
      "The attention mask and the pad token id were not set. As a consequence, you may observe unexpected behavior. Please pass your input's `attention_mask` to obtain reliable results.\n",
      "Setting `pad_token_id` to `eos_token_id`:50256 for open-end generation.\n",
      "The attention mask is not set and cannot be inferred from input because pad token is same as eos token. As a consequence, you may observe unexpected behavior. Please pass your input's `attention_mask` to obtain reliable results.\n"
     ]
    },
    {
     "name": "stdout",
     "output_type": "stream",
     "text": [
      "Hello, how are you?\n",
      "\n",
      "I'm a newbie to the world of web development. I'm a newbie to web development. I'm a newbie to web development. I'm a newbie to web development. I'm a\n"
     ]
    }
   ],
   "source": [
    "from transformers import AutoModelForCausalLM, AutoTokenizer\n",
    "\n",
    "model_name = \"EleutherAI/gpt-neo-125M\"\n",
    "\n",
    "# Load tokenizer and model\n",
    "tokenizer = AutoTokenizer.from_pretrained(model_name)\n",
    "model = AutoModelForCausalLM.from_pretrained(model_name)\n",
    "\n",
    "# Test the model with a simple input\n",
    "input_text = \"Hello, how are you?\"\n",
    "input_ids = tokenizer(input_text, return_tensors=\"pt\").input_ids\n",
    "\n",
    "# Generate text\n",
    "output = model.generate(input_ids, max_length=50)\n",
    "print(tokenizer.decode(output[0], skip_special_tokens=True))\n",
    "\n"
   ]
  },
  {
   "cell_type": "code",
   "execution_count": 2,
   "id": "9ca9825f",
   "metadata": {},
   "outputs": [
    {
     "name": "stdout",
     "output_type": "stream",
     "text": [
      "heyitsk\r\n"
     ]
    }
   ],
   "source": [
    "!huggingface-cli whoami\n"
   ]
  },
  {
   "cell_type": "code",
   "execution_count": 2,
   "id": "5d1c2705",
   "metadata": {
    "scrolled": false
   },
   "outputs": [
    {
     "ename": "SyntaxError",
     "evalue": "invalid decimal literal (518999841.py, line 1)",
     "output_type": "error",
     "traceback": [
      "\u001b[0;36m  Cell \u001b[0;32mIn[2], line 1\u001b[0;36m\u001b[0m\n\u001b[0;31m    huggingface-cli download EleutherAI/gpt-neo-125M\u001b[0m\n\u001b[0m                                                  ^\u001b[0m\n\u001b[0;31mSyntaxError\u001b[0m\u001b[0;31m:\u001b[0m invalid decimal literal\n"
     ]
    }
   ],
   "source": [
    "huggingface-cli download EleutherAI/gpt-neo-125M\n",
    "\n",
    "\n",
    "\n"
   ]
  },
  {
   "cell_type": "code",
   "execution_count": null,
   "id": "dd8ca125",
   "metadata": {},
   "outputs": [],
   "source": [
    "print(generator(\"Hello, how are you?\", max_length=50))\n"
   ]
  },
  {
   "cell_type": "code",
   "execution_count": null,
   "id": "0559b5a5",
   "metadata": {},
   "outputs": [],
   "source": [
    "print(generator(\"Hello, how are you?\", max_length=50, return_full_text=True))\n"
   ]
  },
  {
   "cell_type": "code",
   "execution_count": 14,
   "id": "e99c5fd2",
   "metadata": {},
   "outputs": [
    {
     "name": "stderr",
     "output_type": "stream",
     "text": [
      "Setting `pad_token_id` to `eos_token_id`:50256 for open-end generation.\n"
     ]
    },
    {
     "name": "stdout",
     "output_type": "stream",
     "text": [
      "Write a Python function to calculate the factorial of a number:\n",
      "from functools import partial\n",
      "\n",
      "def find_factorial(a, b):\n",
      "    try:\n",
      "        return b - a\n",
      "    except ValueError:\n",
      "        return 0\n",
      "\n",
      "def factorial(a, b):\n",
      "    return (a + b) / (b - a)\n",
      "\n",
      "def factorial2\n"
     ]
    }
   ],
   "source": [
    "from transformers import AutoModelForCausalLM, AutoTokenizer\n",
    "import torch\n",
    "\n",
    "model_name = \"EleutherAI/gpt-neo-125M\"\n",
    "\n",
    "# Load tokenizer and model\n",
    "tokenizer = AutoTokenizer.from_pretrained(model_name)\n",
    "model = AutoModelForCausalLM.from_pretrained(\"/home/kushagra/.cache/huggingface/hub/models--EleutherAI--gpt-neo-125M/snapshots/21def0189f5705e2521767faed922f1f15e7d7db\")\n",
    "\n",
    "\n",
    "# Set pad_token_id (important for open-end text generation)\n",
    "tokenizer.pad_token = tokenizer.eos_token\n",
    "\n",
    "# Test the model with a simple input\n",
    "prompt = \"Write a Python function to calculate the factorial of a number:\"\n",
    "\n",
    "\n",
    "inputs = tokenizer(prompt, return_tensors=\"pt\", padding=True, truncation=True)\n",
    "\n",
    "# Generate text with proper attention mask\n",
    "output = model.generate(\n",
    "    inputs[\"input_ids\"],\n",
    "    attention_mask=inputs[\"attention_mask\"],\n",
    "    max_length=100,  # Increase to generate more meaningful text\n",
    "    do_sample=True,\n",
    "    temperature=1.0,  # More randomness\n",
    "    top_k=40,  # Consider 40 most probable words\n",
    "    top_p=0.85,  # Filters out less likely words\n",
    "    repetition_penalty=1.2,\n",
    "    num_return_sequences=1,\n",
    ")\n",
    "\n",
    "\n",
    "\n",
    "print(tokenizer.decode(output[0], skip_special_tokens=True))\n"
   ]
  },
  {
   "cell_type": "code",
   "execution_count": null,
   "id": "beea0a46",
   "metadata": {},
   "outputs": [],
   "source": []
  }
 ],
 "metadata": {
  "kernelspec": {
   "display_name": "Python (dswh_env)",
   "language": "python",
   "name": "dswh_env"
  },
  "language_info": {
   "codemirror_mode": {
    "name": "ipython",
    "version": 3
   },
   "file_extension": ".py",
   "mimetype": "text/x-python",
   "name": "python",
   "nbconvert_exporter": "python",
   "pygments_lexer": "ipython3",
   "version": "3.10.16"
  }
 },
 "nbformat": 4,
 "nbformat_minor": 5
}
